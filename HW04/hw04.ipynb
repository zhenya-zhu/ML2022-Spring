{
  "cells": [
    {
      "cell_type": "markdown",
      "metadata": {
        "id": "C_jdZ5vHJ4A9"
      },
      "source": [
        "# Task description\n",
        "- Classify the speakers of given features.\n",
        "- Main goal: Learn how to use transformer.\n",
        "- Baselines:\n",
        "  - Easy: Run sample code and know how to use transformer.\n",
        "  - Medium: Know how to adjust parameters of transformer.\n",
        "  - Strong: Construct [conformer](https://arxiv.org/abs/2005.08100) which is a variety of transformer. \n",
        "  - Boss: Implement [Self-Attention Pooling](https://arxiv.org/pdf/2008.01077v1.pdf) & [Additive Margin Softmax](https://arxiv.org/pdf/1801.05599.pdf) to further boost the performance.\n",
        "\n",
        "- Other links\n",
        "  - Kaggle: [link](https://www.kaggle.com/t/ac77388c90204a4c8daebeddd40ff916)\n",
        "  - Slide: [link](https://docs.google.com/presentation/d/1HLAj7UUIjZOycDe7DaVLSwJfXVd3bXPOyzSb6Zk3hYU/edit?usp=sharing)\n",
        "  - Data: [link](https://drive.google.com/drive/folders/1vI1kuLB-q1VilIftiwnPOCAeOOFfBZge?usp=sharing)\n",
        "\n",
        "# Download dataset\n",
        "- Data is [here](https://drive.google.com/drive/folders/1vI1kuLB-q1VilIftiwnPOCAeOOFfBZge?usp=sharing)"
      ]
    },
    {
      "cell_type": "markdown",
      "metadata": {},
      "source": [
        "Below downloading links are expired, use the links above instead."
      ]
    },
    {
      "cell_type": "code",
      "execution_count": 24,
      "metadata": {
        "id": "LhLNWB-AK2Z5"
      },
      "outputs": [],
      "source": [
        "# # !curl \n",
        "# !export http_proxy=http://proxy.hkg.sap.corp:8080\n",
        "# !export https_proxy=http://proxy.hkg.sap.corp:8080\n",
        "# # !wget https://github.com/MachineLearningHW/ML_HW4_Dataset/releases/latest/download/Dataset.tar.gz.partaa\n",
        "# # !wget https://github.com/MachineLearningHW/ML_HW4_Dataset/releases/latest/download/Dataset.tar.gz.partab\n",
        "# # !wget https://github.com/MachineLearningHW/ML_HW4_Dataset/releases/latest/download/Dataset.tar.gz.partac\n",
        "# # !wget https://github.com/MachineLearningHW/ML_HW4_Dataset/releases/latest/download/Dataset.tar.gz.partad\n",
        "\n",
        "# !curl -O https://github.com/MachineLearningHW/ML_HW4_Dataset/releases/latest/download/Dataset.tar.gz.partaa\n",
        "# !curl -O https://github.com/MachineLearningHW/ML_HW4_Dataset/releases/latest/download/Dataset.tar.gz.partab\n",
        "# !curl -O https://github.com/MachineLearningHW/ML_HW4_Dataset/releases/latest/download/Dataset.tar.gz.partac\n",
        "# !curl -O https://github.com/MachineLearningHW/ML_HW4_Dataset/releases/latest/download/Dataset.tar.gz.partad\n",
        "\n",
        "# !cat Dataset.tar.gz.part* > Dataset.tar.gz\n",
        "\n",
        "# # unzip the file\n",
        "# !tar zxvf Dataset.tar.gz"
      ]
    },
    {
      "cell_type": "markdown",
      "metadata": {
        "id": "ENWVAUDVJtVY"
      },
      "source": [
        "## Fix Random Seed"
      ]
    },
    {
      "cell_type": "code",
      "execution_count": 25,
      "metadata": {
        "id": "E6burzCXIyuA"
      },
      "outputs": [],
      "source": [
        "import numpy as np\n",
        "import torch\n",
        "import random\n",
        "\n",
        "def set_seed(seed):\n",
        "    np.random.seed(seed)\n",
        "    random.seed(seed)\n",
        "    torch.manual_seed(seed)\n",
        "    if torch.cuda.is_available():\n",
        "        torch.cuda.manual_seed(seed)\n",
        "        torch.cuda.manual_seed_all(seed)\n",
        "    torch.backends.cudnn.benchmark = False\n",
        "    torch.backends.cudnn.deterministic = True\n",
        "\n",
        "set_seed(87)"
      ]
    },
    {
      "cell_type": "markdown",
      "metadata": {
        "id": "k7dVbxW2LASN"
      },
      "source": [
        "# Data\n",
        "\n",
        "## Dataset\n",
        "- Original dataset is [Voxceleb2](https://www.robots.ox.ac.uk/~vgg/data/voxceleb/vox2.html).\n",
        "- The [license](https://creativecommons.org/licenses/by/4.0/) and [complete version](https://www.robots.ox.ac.uk/~vgg/data/voxceleb/files/license.txt) of Voxceleb2.\n",
        "- We randomly select 600 speakers from Voxceleb2.\n",
        "- Then preprocess the raw waveforms into mel-spectrograms.\n",
        "\n",
        "- Args:\n",
        "  - data_dir: The path to the data directory.\n",
        "  - metadata_path: The path to the metadata.\n",
        "  - segment_len: The length of audio segment for training. \n",
        "- The architecture of data directory \\\\\n",
        "  - data directory \\\\\n",
        "  |---- metadata.json \\\\\n",
        "  |---- testdata.json \\\\\n",
        "  |---- mapping.json \\\\\n",
        "  |---- uttr-{random string}.pt \\\\\n",
        "\n",
        "- The information in metadata\n",
        "  - \"n_mels\": The dimention of mel-spectrogram.\n",
        "  - \"speakers\": A dictionary. \n",
        "    - Key: speaker ids.\n",
        "    - value: \"feature_path\" and \"mel_len\"\n",
        "\n",
        "\n",
        "For efficiency, we segment the mel-spectrograms into segments in the traing step."
      ]
    },
    {
      "cell_type": "code",
      "execution_count": 26,
      "metadata": {
        "id": "KpuGxl4CI2pr"
      },
      "outputs": [],
      "source": [
        "import os\n",
        "import json\n",
        "import torch\n",
        "import random\n",
        "from pathlib import Path\n",
        "from torch.utils.data import Dataset\n",
        "from torch.nn.utils.rnn import pad_sequence\n",
        " \n",
        " \n",
        "class MyDataset(Dataset):\n",
        "    def __init__(self, data_dir, segment_len=128):\n",
        "        self.data_dir = data_dir\n",
        "        self.segment_len = segment_len\n",
        "    \n",
        "        # Load the mapping from speaker neme to their corresponding id. \n",
        "        mapping_path = Path(data_dir) / \"mapping.json\"\n",
        "        mapping = json.load(mapping_path.open())\n",
        "        self.speaker2id = mapping[\"speaker2id\"]\n",
        "    \n",
        "        # Load metadata of training data.\n",
        "        metadata_path = Path(data_dir) / \"metadata.json\"\n",
        "        metadata = json.load(open(metadata_path))[\"speakers\"]\n",
        "    \n",
        "        # Get the total number of speaker.\n",
        "        self.speaker_num = len(metadata.keys())\n",
        "        self.data = []\n",
        "        for speaker in metadata.keys():\n",
        "            for utterances in metadata[speaker]:\n",
        "                self.data.append([utterances[\"feature_path\"], self.speaker2id[speaker]])\n",
        " \n",
        "    def __len__(self):\n",
        "            return len(self.data)\n",
        " \n",
        "    def __getitem__(self, index):\n",
        "        feat_path, speaker = self.data[index]\n",
        "        # Load preprocessed mel-spectrogram.\n",
        "        mel = torch.load(os.path.join(self.data_dir, feat_path))\n",
        "\n",
        "        # Segmemt mel-spectrogram into \"segment_len\" frames.\n",
        "        if len(mel) > self.segment_len:\n",
        "            # Randomly get the starting point of the segment.\n",
        "            start = random.randint(0, len(mel) - self.segment_len)\n",
        "            # Get a segment with \"segment_len\" frames.\n",
        "            mel = torch.FloatTensor(mel[start:start+self.segment_len])\n",
        "        else:\n",
        "            mel = torch.FloatTensor(mel)\n",
        "        # Turn the speaker id into long for computing loss later.\n",
        "        speaker = torch.FloatTensor([speaker]).long()\n",
        "        return mel, speaker\n",
        " \n",
        "    def get_speaker_number(self):\n",
        "        return self.speaker_num"
      ]
    },
    {
      "cell_type": "markdown",
      "metadata": {
        "id": "668hverTMlGN"
      },
      "source": [
        "## Dataloader\n",
        "- Split dataset into training dataset(90%) and validation dataset(10%).\n",
        "- Create dataloader to iterate the data."
      ]
    },
    {
      "cell_type": "code",
      "execution_count": 27,
      "metadata": {
        "id": "B7c2gZYoJDRS"
      },
      "outputs": [],
      "source": [
        "import torch\n",
        "from torch.utils.data import DataLoader, random_split\n",
        "from torch.nn.utils.rnn import pad_sequence\n",
        "\n",
        "\n",
        "def collate_batch(batch):\n",
        "    # Process features within a batch.\n",
        "    \"\"\"Collate a batch of data.\"\"\"\n",
        "    mel, speaker = zip(*batch)\n",
        "    # Because we train the model batch by batch, we need to pad the features in the same batch to make their lengths the same.\n",
        "    mel = pad_sequence(mel, batch_first=True, padding_value=-20)    # pad log 10^(-20) which is very small value.\n",
        "    # mel: (batch size, length, 40)\n",
        "    return mel, torch.FloatTensor(speaker).long()\n",
        "\n",
        "\n",
        "def get_dataloader(data_dir, batch_size, n_workers):\n",
        "    \"\"\"Generate dataloader\"\"\"\n",
        "    dataset = MyDataset(data_dir)\n",
        "    speaker_num = dataset.get_speaker_number()\n",
        "    # Split dataset into training dataset and validation dataset\n",
        "    trainlen = int(0.9 * len(dataset))\n",
        "    lengths = [trainlen, len(dataset) - trainlen]\n",
        "    trainset, validset = random_split(dataset, lengths)\n",
        "\n",
        "    train_loader = DataLoader(\n",
        "        trainset,\n",
        "        batch_size=batch_size,\n",
        "        shuffle=True,\n",
        "        drop_last=True,\n",
        "        num_workers=n_workers,\n",
        "        pin_memory=True,\n",
        "        collate_fn=collate_batch,\n",
        "    )\n",
        "    valid_loader = DataLoader(\n",
        "        validset,\n",
        "        batch_size=batch_size,\n",
        "        num_workers=n_workers,\n",
        "        drop_last=True,\n",
        "        pin_memory=True,\n",
        "        collate_fn=collate_batch,\n",
        "    )\n",
        "\n",
        "    return train_loader, valid_loader, speaker_num"
      ]
    },
    {
      "cell_type": "markdown",
      "metadata": {
        "id": "5FOSZYxrMqhc"
      },
      "source": [
        "# Model\n",
        "- TransformerEncoderLayer:\n",
        "  - Base transformer encoder layer in [Attention Is All You Need](https://arxiv.org/abs/1706.03762)\n",
        "  - Parameters:\n",
        "    - d_model: the number of expected features of the input (required).\n",
        "\n",
        "    - nhead: the number of heads of the multiheadattention models (required).\n",
        "\n",
        "    - dim_feedforward: the dimension of the feedforward network model (default=2048).\n",
        "\n",
        "    - dropout: the dropout value (default=0.1).\n",
        "\n",
        "    - activation: the activation function of intermediate layer, relu or gelu (default=relu).\n",
        "\n",
        "- TransformerEncoder:\n",
        "  - TransformerEncoder is a stack of N transformer encoder layers\n",
        "  - Parameters:\n",
        "    - encoder_layer: an instance of the TransformerEncoderLayer() class (required).\n",
        "\n",
        "    - num_layers: the number of sub-encoder-layers in the encoder (required).\n",
        "\n",
        "    - norm: the layer normalization component (optional)."
      ]
    },
    {
      "cell_type": "code",
      "execution_count": 28,
      "metadata": {
        "id": "iXZ5B0EKJGs8"
      },
      "outputs": [],
      "source": [
        "import torch\n",
        "import torch.nn as nn\n",
        "import torch.nn.functional as F\n",
        "\n",
        "\n",
        "class Classifier(nn.Module):\n",
        "    def __init__(self, d_model=80, n_spks=600, dropout=0.1, nhead=8):\n",
        "        super().__init__()\n",
        "        # Project the dimension of features from that of input into d_model.\n",
        "        self.prenet = nn.Linear(40, d_model)\n",
        "        # TODO:\n",
        "        #   Change Transformer to Conformer.\n",
        "        #   https://arxiv.org/abs/2005.08100\n",
        "\n",
        "        # d_model 词向量维度\n",
        "        # dim_ff ff层维度\n",
        "        # nhead 多头注意力数量\n",
        "        # dropout \n",
        "        # activation 激活函数，relu\n",
        "        # layer_norm_eps 在BatchN时，在分母里面加上这个值，防止方差过小除以0\n",
        "        # batch_first input和output使用形如(batch, seq, feature)，把batch放在前面\n",
        "        # norm_first norm是先于还是后于 attention和ff，默认false\n",
        "        # bias 如果true，线性层和norm层不会学习bias\n",
        "        self.encoder_layer = nn.TransformerEncoderLayer(\n",
        "            d_model=d_model, dim_feedforward=256, nhead=8\n",
        "        )\n",
        "        # self.encoder = nn.TransformerEncoder(self.encoder_layer, num_layers=2)\n",
        "\n",
        "        # Project the the dimension of features from d_model into speaker nums.\n",
        "        self.pred_layer = nn.Sequential(\n",
        "            nn.Linear(d_model, 2*d_model),\n",
        "            nn.Sigmoid(),\n",
        "            nn.Dropout(dropout),\n",
        "            nn.Linear(2*d_model, n_spks),\n",
        "        )\n",
        "\n",
        "    def forward(self, mels):\n",
        "        \"\"\"\n",
        "        args:\n",
        "            mels: (batch size, length, 40)\n",
        "        return:\n",
        "            out: (batch size, n_spks)\n",
        "        \"\"\"\n",
        "        # out: (batch size, length, d_model)\n",
        "        out = self.prenet(mels)\n",
        "        # out: (length, batch size, d_model)\n",
        "        out = out.permute(1, 0, 2)\n",
        "        # The encoder layer expect features in the shape of (length, batch size, d_model).\n",
        "        out = self.encoder_layer(out)\n",
        "        # out: (batch size, length, d_model)\n",
        "        out = out.transpose(0, 1)\n",
        "        # mean pooling\n",
        "        stats = out.mean(dim=1)\n",
        "\n",
        "        # out: (batch, n_spks)\n",
        "        out = self.pred_layer(stats)\n",
        "        return out"
      ]
    },
    {
      "cell_type": "markdown",
      "metadata": {
        "id": "W7yX8JinM5Ly"
      },
      "source": [
        "# Learning rate schedule\n",
        "- For transformer architecture, the design of learning rate schedule is different from that of CNN.\n",
        "- Previous works show that the warmup of learning rate is useful for training models with transformer architectures.\n",
        "- The warmup schedule\n",
        "  - Set learning rate to 0 in the beginning.\n",
        "  - The learning rate increases linearly from 0 to initial learning rate during warmup period."
      ]
    },
    {
      "cell_type": "code",
      "execution_count": 29,
      "metadata": {
        "id": "ykt0N1nVJJi2"
      },
      "outputs": [],
      "source": [
        "import math\n",
        "\n",
        "import torch\n",
        "from torch.optim import Optimizer\n",
        "from torch.optim.lr_scheduler import LambdaLR\n",
        "\n",
        "\n",
        "def get_cosine_schedule_with_warmup(\n",
        "    optimizer: Optimizer,\n",
        "    num_warmup_steps: int,\n",
        "    num_training_steps: int,\n",
        "    num_cycles: float = 0.5,\n",
        "    last_epoch: int = -1,\n",
        "):\n",
        "    \"\"\"\n",
        "    Create a schedule with a learning rate that decreases following the values of the cosine function between the\n",
        "    initial lr set in the optimizer to 0, after a warmup period during which it increases linearly between 0 and the\n",
        "    initial lr set in the optimizer.\n",
        "\n",
        "    Args:\n",
        "        optimizer (:class:`~torch.optim.Optimizer`):\n",
        "        The optimizer for which to schedule the learning rate.\n",
        "        num_warmup_steps (:obj:`int`):\n",
        "        The number of steps for the warmup phase.\n",
        "        num_training_steps (:obj:`int`):\n",
        "        The total number of training steps.\n",
        "        num_cycles (:obj:`float`, `optional`, defaults to 0.5):\n",
        "        The number of waves in the cosine schedule (the defaults is to just decrease from the max value to 0\n",
        "        following a half-cosine).\n",
        "        last_epoch (:obj:`int`, `optional`, defaults to -1):\n",
        "        The index of the last epoch when resuming training.\n",
        "\n",
        "    Return:\n",
        "        :obj:`torch.optim.lr_scheduler.LambdaLR` with the appropriate schedule.\n",
        "    \"\"\"\n",
        "    def lr_lambda(current_step):\n",
        "        # Warmup\n",
        "        if current_step < num_warmup_steps:\n",
        "            return float(current_step) / float(max(1, num_warmup_steps))\n",
        "        # decadence\n",
        "        progress = float(current_step - num_warmup_steps) / float(\n",
        "            max(1, num_training_steps - num_warmup_steps)\n",
        "        )\n",
        "        return max(\n",
        "            0.0, 0.5 * (1.0 + math.cos(math.pi * float(num_cycles) * 2.0 * progress))\n",
        "        )\n",
        "\n",
        "    return LambdaLR(optimizer, lr_lambda, last_epoch)"
      ]
    },
    {
      "cell_type": "markdown",
      "metadata": {
        "id": "-LN2XkteM_uH"
      },
      "source": [
        "# Model Function\n",
        "- Model forward function."
      ]
    },
    {
      "cell_type": "code",
      "execution_count": 30,
      "metadata": {
        "id": "N-rr8529JMz0"
      },
      "outputs": [],
      "source": [
        "import torch\n",
        "\n",
        "\n",
        "def model_fn(batch, model, criterion, device):\n",
        "    \"\"\"Forward a batch through the model.\"\"\"\n",
        "\n",
        "    mels, labels = batch\n",
        "    mels = mels.to(device)\n",
        "    labels = labels.to(device)\n",
        "\n",
        "    outs = model(mels)\n",
        "\n",
        "    loss = criterion(outs, labels)\n",
        "\n",
        "    # Get the speaker id with highest probability.\n",
        "    preds = outs.argmax(1)\n",
        "    # Compute accuracy.\n",
        "    accuracy = torch.mean((preds == labels).float())\n",
        "\n",
        "    return loss, accuracy"
      ]
    },
    {
      "cell_type": "markdown",
      "metadata": {
        "id": "cwM_xyOtNCI2"
      },
      "source": [
        "# Validate\n",
        "- Calculate accuracy of the validation set."
      ]
    },
    {
      "cell_type": "code",
      "execution_count": 31,
      "metadata": {
        "id": "YAiv6kpdJRTJ"
      },
      "outputs": [],
      "source": [
        "from tqdm import tqdm\n",
        "import torch\n",
        "\n",
        "\n",
        "def valid(dataloader, model, criterion, device): \n",
        "    \"\"\"Validate on validation set.\"\"\"\n",
        "\n",
        "    model.eval()\n",
        "    running_loss = 0.0\n",
        "    running_accuracy = 0.0\n",
        "    pbar = tqdm(total=len(dataloader.dataset), ncols=0, desc=\"Valid\", unit=\" uttr\")\n",
        "\n",
        "    for i, batch in enumerate(dataloader):\n",
        "        with torch.no_grad():\n",
        "            loss, accuracy = model_fn(batch, model, criterion, device)\n",
        "            running_loss += loss.item()\n",
        "            running_accuracy += accuracy.item()\n",
        "\n",
        "        pbar.update(dataloader.batch_size)\n",
        "        pbar.set_postfix(\n",
        "            loss=f\"{running_loss / (i+1):.2f}\",\n",
        "            accuracy=f\"{running_accuracy / (i+1):.2f}\",\n",
        "        )\n",
        "\n",
        "    pbar.close()\n",
        "    model.train()\n",
        "\n",
        "    return running_accuracy / len(dataloader)"
      ]
    },
    {
      "cell_type": "markdown",
      "metadata": {
        "id": "g6ne9G-eNEdG"
      },
      "source": [
        "# Main function"
      ]
    },
    {
      "cell_type": "code",
      "execution_count": 32,
      "metadata": {},
      "outputs": [],
      "source": [
        "def parse_args(isTrain=True):\n",
        "    shared_config = {\n",
        "        \"data_dir\": \"./Dataset\",\n",
        "        \"model_save_path\": \"model.ckpt\",\n",
        "        \"d_model\": 512,\n",
        "        \"nhead\": 16\n",
        "    }\n",
        "\n",
        "    training_config = {  # Corrected spelling here\n",
        "        \"batch_size\": 8,\n",
        "        \"n_workers\": 0,\n",
        "        \"valid_steps\": 2000,\n",
        "        \"warmup_steps\": 1000,\n",
        "        \"save_steps\": 10000,\n",
        "        \"total_steps\": 70000\n",
        "    }\n",
        "\n",
        "    validation_config = {\n",
        "        \"output_path\": \"./output.csv\",\n",
        "    }\n",
        "\n",
        "    if isTrain:\n",
        "        return {**shared_config, **training_config}  # Corrected spelling here\n",
        "    else:\n",
        "        return {**shared_config, **validation_config}\n"
      ]
    },
    {
      "cell_type": "code",
      "execution_count": 33,
      "metadata": {
        "id": "Usv9s-CuJSG7"
      },
      "outputs": [
        {
          "name": "stdout",
          "output_type": "stream",
          "text": [
            "[Info]: Use mps now!\n",
            "[Info]: Finish loading data!\n",
            "[Info]: Finish creating model!\n"
          ]
        },
        {
          "name": "stderr",
          "output_type": "stream",
          "text": [
            "Train: 100% 2000/2000 [03:00<00:00, 11.08 step/s, accuracy=0.00, loss=5.95, step=2000]\n",
            "Valid: 100% 5664/5667 [00:44<00:00, 126.86 uttr/s, accuracy=0.00, loss=6.02]\n",
            "Train: 100% 2000/2000 [02:25<00:00, 13.73step/s, accuracy=0.00, loss=5.63, step=4000]\n",
            "Valid: 100% 5664/5667 [00:35<00:00, 157.58 uttr/s, accuracy=0.00, loss=5.91]\n",
            "Train: 100% 2000/2000 [02:27<00:00, 13.59step/s, accuracy=0.00, loss=5.75, step=6000]\n",
            "Valid: 100% 5664/5667 [00:36<00:00, 155.67 uttr/s, accuracy=0.00, loss=5.89]\n",
            "Train: 100% 2000/2000 [02:05<00:00, 16.00step/s, accuracy=0.00, loss=5.88, step=8000]\n",
            "Valid: 100% 5664/5667 [00:40<00:00, 140.08 uttr/s, accuracy=0.01, loss=5.86]\n",
            "Train: 100% 2000/2000 [01:57<00:00, 17.05step/s, accuracy=0.00, loss=5.91, step=1e+4]\n",
            "Valid: 100% 5664/5667 [00:36<00:00, 153.76 uttr/s, accuracy=0.01, loss=5.77]\n",
            "Train:   0% 3/2000 [00:00<03:38,  9.14step/s, accuracy=0.00, loss=5.75, step=1e+4]"
          ]
        },
        {
          "name": "stdout",
          "output_type": "stream",
          "text": [
            "Step 10000, best model saved. (accuracy=0.0106)\n"
          ]
        },
        {
          "name": "stderr",
          "output_type": "stream",
          "text": [
            "Train: 100% 2000/2000 [02:11<00:00, 15.20step/s, accuracy=0.00, loss=6.01, step=12000]\n",
            "Valid: 100% 5664/5667 [00:39<00:00, 143.23 uttr/s, accuracy=0.01, loss=5.71]\n",
            "Train: 100% 2000/2000 [02:10<00:00, 15.32step/s, accuracy=0.00, loss=5.87, step=14000]\n",
            "Valid: 100% 5664/5667 [00:11<00:00, 498.16 uttr/s, accuracy=0.01, loss=5.70]\n",
            "Train: 100% 2000/2000 [02:07<00:00, 15.64step/s, accuracy=0.00, loss=5.69, step=16000]\n",
            "Valid: 100% 5664/5667 [00:18<00:00, 303.43 uttr/s, accuracy=0.02, loss=5.55]\n",
            "Train: 100% 2000/2000 [02:05<00:00, 15.92step/s, accuracy=0.00, loss=5.55, step=18000]\n",
            "Valid: 100% 5664/5667 [00:23<00:00, 242.85 uttr/s, accuracy=0.02, loss=5.43]\n",
            "Train: 100% 2000/2000 [01:54<00:00, 17.42step/s, accuracy=0.00, loss=4.95, step=2e+4] \n",
            "Valid: 100% 5664/5667 [00:26<00:00, 213.61 uttr/s, accuracy=0.03, loss=5.32]\n",
            "Train:   0% 3/2000 [00:00<02:32, 13.07step/s, accuracy=0.00, loss=4.77, step=2e+4]"
          ]
        },
        {
          "name": "stdout",
          "output_type": "stream",
          "text": [
            "Step 20000, best model saved. (accuracy=0.0300)\n"
          ]
        },
        {
          "name": "stderr",
          "output_type": "stream",
          "text": [
            "Train: 100% 2000/2000 [01:58<00:00, 16.88step/s, accuracy=0.00, loss=5.32, step=22000]\n",
            "Valid: 100% 5664/5667 [00:24<00:00, 233.13 uttr/s, accuracy=0.04, loss=5.23]\n",
            "Train: 100% 2000/2000 [02:12<00:00, 15.06step/s, accuracy=0.00, loss=5.83, step=24000]\n",
            "Valid: 100% 5664/5667 [00:34<00:00, 163.11 uttr/s, accuracy=0.04, loss=5.11]\n",
            "Train: 100% 2000/2000 [02:05<00:00, 15.88step/s, accuracy=0.12, loss=4.56, step=26000]\n",
            "Valid: 100% 5664/5667 [00:14<00:00, 377.72 uttr/s, accuracy=0.05, loss=4.98]\n",
            "Train: 100% 2000/2000 [02:06<00:00, 15.81step/s, accuracy=0.00, loss=4.76, step=28000]\n",
            "Valid: 100% 5664/5667 [00:15<00:00, 367.57 uttr/s, accuracy=0.06, loss=4.98]\n",
            "Train: 100% 2000/2000 [02:01<00:00, 16.49step/s, accuracy=0.12, loss=5.21, step=3e+4] \n",
            "Valid: 100% 5664/5667 [00:19<00:00, 293.40 uttr/s, accuracy=0.08, loss=4.82]\n",
            "Train:   0% 3/2000 [00:00<02:16, 14.64step/s, accuracy=0.12, loss=4.71, step=3e+4]"
          ]
        },
        {
          "name": "stdout",
          "output_type": "stream",
          "text": [
            "Step 30000, best model saved. (accuracy=0.0791)\n"
          ]
        },
        {
          "name": "stderr",
          "output_type": "stream",
          "text": [
            "Train: 100% 2000/2000 [02:25<00:00, 13.72step/s, accuracy=0.00, loss=5.35, step=32000]\n",
            "Valid: 100% 5664/5667 [00:25<00:00, 218.42 uttr/s, accuracy=0.08, loss=4.84]\n",
            "Train: 100% 2000/2000 [02:19<00:00, 14.34step/s, accuracy=0.00, loss=4.89, step=34000]\n",
            "Valid: 100% 5664/5667 [00:23<00:00, 242.71 uttr/s, accuracy=0.09, loss=4.74]\n",
            "Train: 100% 2000/2000 [02:00<00:00, 16.64step/s, accuracy=0.00, loss=4.64, step=36000]\n",
            "Valid: 100% 5664/5667 [00:23<00:00, 243.44 uttr/s, accuracy=0.09, loss=4.67]\n",
            "Train: 100% 2000/2000 [02:17<00:00, 14.52step/s, accuracy=0.38, loss=3.00, step=38000]\n",
            "Valid: 100% 5664/5667 [00:29<00:00, 190.29 uttr/s, accuracy=0.11, loss=4.55]\n",
            "Train: 100% 2000/2000 [02:32<00:00, 13.12step/s, accuracy=0.00, loss=4.24, step=4e+4] \n",
            "Valid: 100% 5664/5667 [00:26<00:00, 215.74 uttr/s, accuracy=0.12, loss=4.45]\n",
            "Train:   0% 2/2000 [00:00<03:56,  8.45step/s, accuracy=0.00, loss=4.16, step=4e+4]"
          ]
        },
        {
          "name": "stdout",
          "output_type": "stream",
          "text": [
            "Step 40000, best model saved. (accuracy=0.1234)\n"
          ]
        },
        {
          "name": "stderr",
          "output_type": "stream",
          "text": [
            "Train: 100% 2000/2000 [02:13<00:00, 14.99step/s, accuracy=0.12, loss=4.08, step=42000]\n",
            "Valid: 100% 5664/5667 [00:25<00:00, 218.12 uttr/s, accuracy=0.14, loss=4.34]\n",
            "Train: 100% 2000/2000 [02:10<00:00, 15.38step/s, accuracy=0.12, loss=4.64, step=44000]\n",
            "Valid: 100% 5664/5667 [00:25<00:00, 226.29 uttr/s, accuracy=0.15, loss=4.20]\n",
            "Train: 100% 2000/2000 [02:10<00:00, 15.30step/s, accuracy=0.25, loss=3.63, step=46000]\n",
            "Valid: 100% 5664/5667 [00:26<00:00, 216.36 uttr/s, accuracy=0.16, loss=4.16]\n",
            "Train: 100% 2000/2000 [02:20<00:00, 14.26step/s, accuracy=0.12, loss=4.39, step=48000]\n",
            "Valid: 100% 5664/5667 [00:38<00:00, 145.26 uttr/s, accuracy=0.17, loss=4.10]\n",
            "Train: 100% 2000/2000 [02:20<00:00, 14.23step/s, accuracy=0.00, loss=4.44, step=5e+4] \n",
            "Valid: 100% 5664/5667 [00:35<00:00, 157.48 uttr/s, accuracy=0.18, loss=4.03]\n",
            "Train:   0% 1/2000 [00:00<04:35,  7.26step/s, accuracy=0.00, loss=3.88, step=5e+4]"
          ]
        },
        {
          "name": "stdout",
          "output_type": "stream",
          "text": [
            "Step 50000, best model saved. (accuracy=0.1764)\n"
          ]
        },
        {
          "name": "stderr",
          "output_type": "stream",
          "text": [
            "Train: 100% 2000/2000 [02:16<00:00, 14.65step/s, accuracy=0.50, loss=3.01, step=52000]\n",
            "Valid: 100% 5664/5667 [00:36<00:00, 156.05 uttr/s, accuracy=0.18, loss=4.01]\n",
            "Train: 100% 2000/2000 [02:07<00:00, 15.66step/s, accuracy=0.25, loss=3.39, step=54000]\n",
            "Valid: 100% 5664/5667 [00:34<00:00, 165.18 uttr/s, accuracy=0.20, loss=3.92]\n",
            "Train: 100% 2000/2000 [02:11<00:00, 15.16step/s, accuracy=0.00, loss=3.94, step=56000]\n",
            "Valid: 100% 5664/5667 [00:35<00:00, 159.93 uttr/s, accuracy=0.20, loss=3.93]\n",
            "Train: 100% 2000/2000 [02:03<00:00, 16.16step/s, accuracy=0.12, loss=3.70, step=58000]\n",
            "Valid: 100% 5664/5667 [00:43<00:00, 130.05 uttr/s, accuracy=0.21, loss=3.87]\n",
            "Train: 100% 2000/2000 [02:39<00:00, 12.54step/s, accuracy=0.12, loss=3.64, step=6e+4] \n",
            "Valid: 100% 5664/5667 [00:24<00:00, 231.09 uttr/s, accuracy=0.20, loss=3.90]\n",
            "Train:   0% 3/2000 [00:00<02:21, 14.15step/s, accuracy=0.12, loss=4.19, step=6e+4]"
          ]
        },
        {
          "name": "stdout",
          "output_type": "stream",
          "text": [
            "Step 60000, best model saved. (accuracy=0.2087)\n"
          ]
        },
        {
          "name": "stderr",
          "output_type": "stream",
          "text": [
            "Train: 100% 2000/2000 [02:18<00:00, 14.45step/s, accuracy=0.12, loss=4.64, step=62000]\n",
            "Valid: 100% 5664/5667 [00:36<00:00, 157.16 uttr/s, accuracy=0.22, loss=3.86]\n",
            "Train: 100% 2000/2000 [02:04<00:00, 16.03step/s, accuracy=0.12, loss=3.86, step=64000]\n",
            "Valid: 100% 5664/5667 [00:33<00:00, 169.10 uttr/s, accuracy=0.21, loss=3.88]\n",
            "Train: 100% 2000/2000 [02:08<00:00, 15.59step/s, accuracy=0.50, loss=3.17, step=66000]\n",
            "Valid: 100% 5664/5667 [00:39<00:00, 144.25 uttr/s, accuracy=0.22, loss=3.87]\n",
            "Train: 100% 2000/2000 [02:08<00:00, 15.61step/s, accuracy=0.25, loss=3.72, step=68000]\n",
            "Valid: 100% 5664/5667 [00:38<00:00, 146.73 uttr/s, accuracy=0.21, loss=3.84]\n",
            "Train: 100% 2000/2000 [02:35<00:00, 12.87step/s, accuracy=0.25, loss=3.63, step=7e+4] \n",
            "Valid: 100% 5664/5667 [00:21<00:00, 258.51 uttr/s, accuracy=0.21, loss=3.87]\n",
            "Train:   0% 0/2000 [00:00<?, ?step/s]\n"
          ]
        },
        {
          "name": "stdout",
          "output_type": "stream",
          "text": [
            "Step 70000, best model saved. (accuracy=0.2177)\n"
          ]
        }
      ],
      "source": [
        "from tqdm import tqdm\n",
        "\n",
        "import torch\n",
        "import torch.nn as nn\n",
        "from torch.optim import AdamW\n",
        "from torch.utils.data import DataLoader, random_split\n",
        "\n",
        "\n",
        "def main(\n",
        "    data_dir,\n",
        "    model_save_path,\n",
        "    batch_size,\n",
        "    n_workers,\n",
        "    valid_steps,\n",
        "    warmup_steps,\n",
        "    total_steps,\n",
        "    save_steps,\n",
        "    d_model,\n",
        "    nhead\n",
        "    \n",
        "):\n",
        "    \"\"\"Main function.\"\"\"\n",
        "    device = torch.device('mps') if torch.device('mps') else torch.device('cpu')\n",
        "    # device = torch.device(\"cuda\" if torch.cuda.is_available() else \"cpu\")\n",
        "    print(f\"[Info]: Use {device} now!\")\n",
        "\n",
        "    train_loader, valid_loader, speaker_num = get_dataloader(data_dir, batch_size, n_workers)\n",
        "    train_iterator = iter(train_loader)\n",
        "    print(f\"[Info]: Finish loading data!\",flush = True)\n",
        "\n",
        "    model = Classifier(n_spks=speaker_num, d_model=d_model,nhead = nhead).to(device)\n",
        "    criterion = nn.CrossEntropyLoss()\n",
        "    optimizer = AdamW(model.parameters(), lr=1e-3)\n",
        "    scheduler = get_cosine_schedule_with_warmup(optimizer, warmup_steps, total_steps)\n",
        "    print(f\"[Info]: Finish creating model!\",flush = True)\n",
        "\n",
        "    best_accuracy = -1.0\n",
        "    best_state_dict = None\n",
        "\n",
        "    pbar = tqdm(total=valid_steps, ncols=0, desc=\"Train\", unit=\" step\")\n",
        "\n",
        "    for step in range(total_steps):\n",
        "        # Get data\n",
        "        try:\n",
        "            batch = next(train_iterator)\n",
        "        except StopIteration:\n",
        "            train_iterator = iter(train_loader)\n",
        "            batch = next(train_iterator)\n",
        "\n",
        "        loss, accuracy = model_fn(batch, model, criterion, device)\n",
        "        batch_loss = loss.item()\n",
        "        batch_accuracy = accuracy.item()\n",
        "\n",
        "        # Updata model\n",
        "        loss.backward()\n",
        "        optimizer.step()\n",
        "        scheduler.step()\n",
        "        optimizer.zero_grad()\n",
        "\n",
        "        # Log\n",
        "        pbar.update()\n",
        "        pbar.set_postfix(\n",
        "            loss=f\"{batch_loss:.2f}\",\n",
        "            accuracy=f\"{batch_accuracy:.2f}\",\n",
        "            step=step + 1,\n",
        "        )\n",
        "\n",
        "        # Do validation\n",
        "        if (step + 1) % valid_steps == 0:\n",
        "            pbar.close()\n",
        "\n",
        "            valid_accuracy = valid(valid_loader, model, criterion, device)\n",
        "\n",
        "            # keep the best model\n",
        "            if valid_accuracy > best_accuracy:\n",
        "                best_accuracy = valid_accuracy\n",
        "                best_state_dict = model.state_dict()\n",
        "\n",
        "            pbar = tqdm(total=valid_steps, ncols=0, desc=\"Train\", unit=\"step\")\n",
        "\n",
        "        # Save the best model so far.\n",
        "        if (step + 1) % save_steps == 0 and best_state_dict is not None:\n",
        "            torch.save(best_state_dict, model_save_path)\n",
        "            pbar.write(f\"Step {step + 1}, best model saved. (accuracy={best_accuracy:.4f})\")\n",
        "\n",
        "    pbar.close()\n",
        "\n",
        "\n",
        "if __name__ == \"__main__\":\n",
        "    main(**parse_args(True))"
      ]
    },
    {
      "cell_type": "markdown",
      "metadata": {
        "id": "NLatBYAhNNMx"
      },
      "source": [
        "# Inference\n",
        "\n",
        "## Dataset of inference"
      ]
    },
    {
      "cell_type": "code",
      "execution_count": 34,
      "metadata": {
        "colab": {
          "background_save": true
        },
        "id": "efS4pCmAJXJH"
      },
      "outputs": [],
      "source": [
        "from ds import InferenceDataset, inference_collate_batch"
      ]
    },
    {
      "cell_type": "markdown",
      "metadata": {
        "id": "tl0WnYwxNK_S"
      },
      "source": [
        "## Main funcrion of Inference"
      ]
    },
    {
      "cell_type": "code",
      "execution_count": 23,
      "metadata": {
        "colab": {
          "background_save": true
        },
        "id": "i8SAbuXEJb2A"
      },
      "outputs": [
        {
          "name": "stdout",
          "output_type": "stream",
          "text": [
            "[Info]: Use mps now!\n",
            "<class 'ds.InferenceDataset'>\n",
            "[Info]: Finish loading data!\n",
            "[Info]: Finish creating model!\n"
          ]
        },
        {
          "data": {
            "application/vnd.jupyter.widget-view+json": {
              "model_id": "809fcb09598a45ff8052a3a6d170a0ff",
              "version_major": 2,
              "version_minor": 0
            },
            "text/plain": [
              "  0%|          | 0/8000 [00:00<?, ?it/s]"
            ]
          },
          "metadata": {},
          "output_type": "display_data"
        }
      ],
      "source": [
        "import json\n",
        "import csv\n",
        "from pathlib import Path\n",
        "from tqdm.notebook import tqdm\n",
        "\n",
        "import torch\n",
        "from torch.utils.data import DataLoader\n",
        "\n",
        "\n",
        "def main(\n",
        "    data_dir,\n",
        "    model_save_path,\n",
        "    output_path,\n",
        "    d_model,\n",
        "    nhead\n",
        "):\n",
        "    \"\"\"Main function.\"\"\"\n",
        "    device = torch.device('mps') if torch.device('mps') else torch.device('cpu')\n",
        "    # device = torch.device(\"cuda\" if torch.cuda.is_available() else \"cpu\")\n",
        "    print(f\"[Info]: Use {device} now!\")\n",
        "\n",
        "    mapping_path = Path(data_dir) / \"mapping.json\"\n",
        "    mapping = json.load(mapping_path.open())\n",
        "    print(InferenceDataset)\n",
        "    dataset = InferenceDataset(data_dir)\n",
        "    dataloader = DataLoader(\n",
        "        dataset,\n",
        "        batch_size=1,\n",
        "        shuffle=False,\n",
        "        drop_last=False,\n",
        "        # num_workers=8,\n",
        "        collate_fn=inference_collate_batch,\n",
        "    )\n",
        "    print(f\"[Info]: Finish loading data!\",flush = True)\n",
        "\n",
        "    speaker_num = len(mapping[\"id2speaker\"])\n",
        "    model = Classifier(n_spks=speaker_num, d_model=d_model, nhead=nhead).to(device)\n",
        "    model.load_state_dict(torch.load(model_save_path))\n",
        "    model.eval()\n",
        "    print(f\"[Info]: Finish creating model!\",flush = True)\n",
        "\n",
        "    results = [[\"Id\", \"Category\"]]\n",
        "    for feat_paths, mels in tqdm(dataloader):\n",
        "        with torch.no_grad():\n",
        "            mels = mels.to(device)\n",
        "            outs = model(mels)\n",
        "            preds = outs.argmax(1).cpu().numpy()\n",
        "            for feat_path, pred in zip(feat_paths, preds):\n",
        "                results.append([feat_path, mapping[\"id2speaker\"][str(pred)]])\n",
        "\n",
        "    with open(output_path, 'w', newline='') as csvfile:\n",
        "        writer = csv.writer(csvfile)\n",
        "        writer.writerows(results)\n",
        "\n",
        "\n",
        "if __name__ == \"__main__\":\n",
        "    main(**parse_args(isTrain=False))"
      ]
    }
  ],
  "metadata": {
    "accelerator": "GPU",
    "colab": {
      "collapsed_sections": [],
      "name": "hw04.ipynb",
      "provenance": []
    },
    "kernelspec": {
      "display_name": "Python 3",
      "name": "python3"
    },
    "language_info": {
      "codemirror_mode": {
        "name": "ipython",
        "version": 3
      },
      "file_extension": ".py",
      "mimetype": "text/x-python",
      "name": "python",
      "nbconvert_exporter": "python",
      "pygments_lexer": "ipython3",
      "version": "3.9.17"
    }
  },
  "nbformat": 4,
  "nbformat_minor": 0
}
